{
 "cells": [
  {
   "cell_type": "markdown",
   "metadata": {},
   "source": [
    "# Task 4"
   ]
  },
  {
   "cell_type": "code",
   "execution_count": null,
   "metadata": {},
   "outputs": [],
   "source": [
    "amount = int(input(\"How many items do you want to purchase?\"))\n",
    "\n",
    "if 0 <= amount < 10:\n",
    "    print(\"Your amount is:\", amount, \".\", \"The cost is: $\", amount * 12, \".\")\n",
    "elif 10 <= amount < 100:\n",
    "    print(\"Your amount is:\", amount, \".\", \"The cost is: $\", amount * 10, \".\")\n",
    "elif amount >= 100:\n",
    "    print(\"Your amount is:\", amount, \".\", \"The cost is: $\", amount * 7, \".\")\n",
    "else:\n",
    "    print(\"You can not buy negative amount!\")"
   ]
  },
  {
   "cell_type": "markdown",
   "metadata": {},
   "source": [
    "# Task 5"
   ]
  },
  {
   "cell_type": "code",
   "execution_count": 7,
   "metadata": {},
   "outputs": [
    {
     "name": "stdout",
     "output_type": "stream",
     "text": [
      "Your turn:Rock\n",
      "Player:  Rock\n",
      "AI: Scissors\n",
      "General score:\n",
      " P: 1 A: 0\n",
      "Your turn:Paper\n",
      "Player:  Paper\n",
      "AI: Scissors\n",
      "General score:\n",
      " P: 1 A: 1\n",
      "Your turn:Rock\n",
      "Player:  Rock\n",
      "AI: Rock\n",
      "Draw! General score:\n",
      " P: 1 A: 1\n",
      "It's a draw!\n"
     ]
    }
   ],
   "source": [
    "import random\n",
    "n = 0\n",
    "a = 0\n",
    "p = 0\n",
    "while n<3:\n",
    "    player = input(\"Your turn:\")\n",
    "    print(\"Player: \", player)\n",
    "    ai = random.randrange(0,3)\n",
    "    ai_return = {0: \"Rock\", 1: \"Paper\", 2: \"Scissors\"}\n",
    "    print(\"AI:\", ai_return[ai])\n",
    "    if player == \"Rock\" and ai_return[ai] == \"Paper\":\n",
    "        a += 1\n",
    "        print(\"General score:\\n P:\",p,\"A:\",a)\n",
    "    elif player == \"Rock\" and ai_return[ai] == \"Scissors\":\n",
    "        p += 1\n",
    "        print(\"General score:\\n P:\",p,\"A:\",a)\n",
    "    elif player == \"Paper\" and ai_return[ai] == \"Scissors\":\n",
    "        a += 1\n",
    "        print(\"General score:\\n P:\",p,\"A:\",a)\n",
    "    elif player == \"Paper\" and ai_return[ai] == \"Rock\":\n",
    "        p += 1\n",
    "        print(\"General score:\\n P:\",p,\"A:\",a)\n",
    "    elif player == \"Scissors\" and ai_return[ai] == \"Rock\":\n",
    "        a += 1\n",
    "        print(\"General score:\\n P:\",p,\"A:\",a)\n",
    "    elif player == \"Scissors\" and ai_return[ai] == \"Paper\":\n",
    "        p += 1\n",
    "        print(\"General score:\\n P:\",p,\"A:\",a)\n",
    "    else:\n",
    "        print(\"Draw! General score:\\n P:\",p,\"A:\",a)\n",
    "    n += 1\n",
    "\n",
    "if p > a:\n",
    "    print(\"Player wins!\")\n",
    "elif p < a:\n",
    "    print(\"AI wins!\")\n",
    "else:\n",
    "    print(\"It's a draw!\")"
   ]
  },
  {
   "cell_type": "markdown",
   "metadata": {},
   "source": [
    "# Task 6"
   ]
  },
  {
   "cell_type": "code",
   "execution_count": 40,
   "metadata": {},
   "outputs": [
    {
     "name": "stdout",
     "output_type": "stream",
     "text": [
      "Enter your integer. If you are done, enter 0.1\n",
      "Enter your integer. If you are done, enter 0.5\n",
      "Enter your integer. If you are done, enter 0.2\n",
      "Enter your integer. If you are done, enter 0.3\n",
      "Enter your integer. If you are done, enter 0.5\n",
      "Enter your integer. If you are done, enter 0.0\n",
      "5\n",
      "5\n",
      "[5, 3, 2, 5, 1]\n",
      "Yes\n",
      "2\n",
      "[2, 3, 5]\n",
      "2\n",
      "Help on function someoperinlist in module __main__:\n",
      "\n",
      "someoperinlist()\n",
      "    Asks the user to enter a list of integers and do the following:\n",
      "    \n",
      "    Print the total number of items in the list.\n",
      "    Print the last item in the list.\n",
      "    Print the list in reverse order.\n",
      "    Print Yes if the list contains a 5 and No otherwise.\n",
      "    Print the number of fives in the list.\n",
      "    Remove the first and last items from the list, sort the remaining items, and print the result.\n",
      "    Print how many integers in the list are less than 5.\n",
      "\n"
     ]
    }
   ],
   "source": [
    "def operations_in_list():\n",
    "    \n",
    "    \"\"\"\n",
    "    Asks the user to enter a list of integers and do the following:\n",
    "\n",
    "    Print the total number of items in the list.\n",
    "    Print the last item in the list.\n",
    "    Print the list in reverse order.\n",
    "    Print Yes if the list contains a 5 and No otherwise.\n",
    "    Print the number of fives in the list.\n",
    "    Remove the first and last items from the list, sort the remaining items, and print the result.\n",
    "    Print how many integers in the list are less than 5.\n",
    "    \"\"\"\n",
    "    \n",
    "    integer = None\n",
    "    user = []\n",
    "    while integer != 0:\n",
    "        integer = int(input(\"Enter your integer. If you are done, enter 0.\"))\n",
    "        user.append(integer)\n",
    "    user.pop(-1)\n",
    "    print(len(user))\n",
    "    print(user[-1])\n",
    "    print(list(reversed(user)))\n",
    "    if 5 in user:\n",
    "        print(\"Yes\")\n",
    "    else:\n",
    "        print(\"No\")\n",
    "    n = 0\n",
    "    for i in user:\n",
    "        if i == 5:\n",
    "            n+=1\n",
    "    print(n)\n",
    "    user.pop(0)\n",
    "    user.pop(-1)\n",
    "    user.sort()\n",
    "    print(user)\n",
    "    n = 0\n",
    "    for i in user:\n",
    "        if i < 5:\n",
    "            n+=1\n",
    "    print(n)\n",
    "    \n",
    "operations_in_list()\n"
   ]
  },
  {
   "cell_type": "code",
   "execution_count": null,
   "metadata": {},
   "outputs": [],
   "source": []
  }
 ],
 "metadata": {
  "kernelspec": {
   "display_name": "Python 3",
   "language": "python",
   "name": "python3"
  },
  "language_info": {
   "codemirror_mode": {
    "name": "ipython",
    "version": 3
   },
   "file_extension": ".py",
   "mimetype": "text/x-python",
   "name": "python",
   "nbconvert_exporter": "python",
   "pygments_lexer": "ipython3",
   "version": "3.8.5"
  }
 },
 "nbformat": 4,
 "nbformat_minor": 4
}
